{
 "cells": [
  {
   "cell_type": "markdown",
   "id": "33829cfc",
   "metadata": {},
   "source": [
    "# 📊 Proyecto: Análisis de Ventas con Python y Pandas"
   ]
  },
  {
   "cell_type": "markdown",
   "id": "06caf1ac",
   "metadata": {},
   "source": [
    "Este es un mini proyecto para analizar datos simulados usando Pandas y Matplotlib."
   ]
  },
  {
   "cell_type": "code",
   "execution_count": null,
   "id": "15fea405",
   "metadata": {},
   "outputs": [],
   "source": [
    "import pandas as pd\n",
    "import matplotlib.pyplot as plt\n",
    "data = {'Fecha': ['2024-01-03', '2024-01-05', '2024-01-05', '2024-02-01', '2024-02-10', '2024-03-15', '2024-03-20', '2024-03-25', '2024-04-02', '2024-04-10'], 'Producto': ['Mouse', 'Teclado', 'Cuaderno', 'Monitor', 'Mouse', 'Cuaderno', 'Teclado', 'Mouse', 'Monitor', 'Cuaderno'], 'Categoria': ['Electrónica', 'Electrónica', 'Oficina', 'Electrónica', 'Electrónica', 'Oficina', 'Electrónica', 'Electrónica', 'Electrónica', 'Oficina'], 'Cantidad': [3, 2, 5, 1, 4, 7, 1, 2, 3, 4], 'Precio_Unitario': [12.5, 25.0, 3.0, 150.0, 12.5, 3.0, 25.0, 12.5, 150.0, 3.0]}\n",
    "ventas = pd.DataFrame(data)\n",
    "ventas['Fecha'] = pd.to_datetime(ventas['Fecha'])\n",
    "ventas['Ingreso'] = ventas['Cantidad'] * ventas['Precio_Unitario']\n",
    "ventas['Mes'] = ventas['Fecha'].dt.to_period('M')"
   ]
  },
  {
   "cell_type": "markdown",
   "id": "edf3af74",
   "metadata": {},
   "source": [
    "## 👀 Vista previa de los datos"
   ]
  },
  {
   "cell_type": "code",
   "execution_count": null,
   "id": "4440a213",
   "metadata": {},
   "outputs": [],
   "source": [
    "ventas.head()"
   ]
  },
  {
   "cell_type": "markdown",
   "id": "7c59d0b3",
   "metadata": {},
   "source": [
    "## 💵 Ingreso por producto"
   ]
  },
  {
   "cell_type": "code",
   "execution_count": null,
   "id": "63d55985",
   "metadata": {},
   "outputs": [],
   "source": [
    "ventas.groupby('Producto')['Ingreso'].sum().sort_values(ascending=False)"
   ]
  },
  {
   "cell_type": "markdown",
   "id": "3b997b40",
   "metadata": {},
   "source": [
    "## 🏷️ Cantidad vendida por categoría"
   ]
  },
  {
   "cell_type": "code",
   "execution_count": null,
   "id": "75977ebb",
   "metadata": {},
   "outputs": [],
   "source": [
    "ventas.groupby('Categoria')['Cantidad'].sum()"
   ]
  },
  {
   "cell_type": "markdown",
   "id": "79e1a9bd",
   "metadata": {},
   "source": [
    "## 📆 Ingreso por mes"
   ]
  },
  {
   "cell_type": "code",
   "execution_count": null,
   "id": "d2118220",
   "metadata": {},
   "outputs": [],
   "source": [
    "ingreso_por_mes = ventas.groupby('Mes')['Ingreso'].sum()\n",
    "ingreso_por_mes"
   ]
  },
  {
   "cell_type": "markdown",
   "id": "97636fc5",
   "metadata": {},
   "source": [
    "## 📈 Línea: Ingreso mensual"
   ]
  },
  {
   "cell_type": "code",
   "execution_count": null,
   "id": "ab2e844b",
   "metadata": {},
   "outputs": [],
   "source": [
    "plt.figure(figsize=(8,5))\n",
    "plt.plot(ingreso_por_mes.index.astype(str), ingreso_por_mes.values, marker='o')\n",
    "plt.title('Ingreso por mes')\n",
    "plt.xlabel('Mes')\n",
    "plt.ylabel('Ingreso')\n",
    "plt.grid(True)\n",
    "plt.tight_layout()\n",
    "plt.show()"
   ]
  },
  {
   "cell_type": "markdown",
   "id": "54fef508",
   "metadata": {},
   "source": [
    "## 📊 Barras: Ingreso por producto"
   ]
  },
  {
   "cell_type": "code",
   "execution_count": null,
   "id": "923d4de9",
   "metadata": {},
   "outputs": [],
   "source": [
    "ingreso_por_producto = ventas.groupby('Producto')['Ingreso'].sum().sort_values(ascending=False)\n",
    "plt.figure(figsize=(8,5))\n",
    "plt.bar(ingreso_por_producto.index, ingreso_por_producto.values, color='orange')\n",
    "plt.title('Ingreso por producto')\n",
    "plt.xlabel('Producto')\n",
    "plt.ylabel('Ingreso')\n",
    "plt.tight_layout()\n",
    "plt.show()"
   ]
  },
  {
   "cell_type": "markdown",
   "id": "82529b2d",
   "metadata": {},
   "source": [
    "## 🥧 Pie chart: Ingreso por categoría"
   ]
  },
  {
   "cell_type": "code",
   "execution_count": null,
   "id": "819920ec",
   "metadata": {},
   "outputs": [],
   "source": [
    "ingreso_por_categoria = ventas.groupby('Categoria')['Ingreso'].sum()\n",
    "plt.figure(figsize=(6,6))\n",
    "plt.pie(ingreso_por_categoria, labels=ingreso_por_categoria.index, autopct='%1.1f%%', startangle=140, colors=['skyblue', 'lightgreen'])\n",
    "plt.title('Distribución ingresos por categoría')\n",
    "plt.axis('equal')\n",
    "plt.tight_layout()\n",
    "plt.show()"
   ]
  },
  {
   "cell_type": "markdown",
   "id": "aa01ac1d",
   "metadata": {},
   "source": [
    "## ✅ Conclusiones\n",
    "- Electrónica fue la categoría más rentable.\n",
    "- Abril fue el mejor mes en ventas.\n",
    "- ¡Este proyecto es una gran base para tu portafolio!"
   ]
  }
 ],
 "metadata": {},
 "nbformat": 4,
 "nbformat_minor": 5
}
